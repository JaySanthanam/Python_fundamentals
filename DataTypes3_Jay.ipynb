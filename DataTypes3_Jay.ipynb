{
  "nbformat": 4,
  "nbformat_minor": 0,
  "metadata": {
    "colab": {
      "name": "DataTypes3.ipynb",
      "provenance": [],
      "collapsed_sections": [],
      "include_colab_link": true
    },
    "kernelspec": {
      "name": "python3",
      "display_name": "Python 3"
    }
  },
  "cells": [
    {
      "cell_type": "markdown",
      "metadata": {
        "id": "view-in-github",
        "colab_type": "text"
      },
      "source": [
        "<a href=\"https://colab.research.google.com/github/JaySanthanam/Python_fundamentals/blob/main/DataTypes3_Jay.ipynb\" target=\"_parent\"><img src=\"https://colab.research.google.com/assets/colab-badge.svg\" alt=\"Open In Colab\"/></a>"
      ]
    },
    {
      "cell_type": "markdown",
      "metadata": {
        "id": "GdT0fwTCa4gI"
      },
      "source": [
        "# Working with Strings"
      ]
    },
    {
      "cell_type": "markdown",
      "metadata": {
        "id": "ozWLM6Pfa7d_"
      },
      "source": [
        "---\n",
        "### Exercise 1 input and strings\n",
        "**Recap**: to get input from the user and store it in a variable, use the instruction  \n",
        "\n",
        "*variableName = input(\"message asking user for required information\")*  \n",
        "\n",
        "*Remember: Unless you state otherwise, all input is String data*  \n",
        "\n",
        "Write a function called **print_initials()** which will:\n",
        "\n",
        "*  ask the user to input a **first_name**  \n",
        "*  ask the user to input a **middle_name**  \n",
        "*  ask the user to input a **surname**  \n",
        "*  print the name in the format: `surname`, `first_name` `middle_name`  \n",
        "\n",
        "Test Inputs:  \n",
        "Peter  \n",
        "Barry  \n",
        "Burrows  \n",
        "\n",
        "Expected output:  \n",
        "Burrows, Peter Barry\n"
      ]
    },
    {
      "cell_type": "code",
      "metadata": {
        "id": "lMJckNo-ab3z",
        "outputId": "30b64ca9-0378-4186-a25f-d6e262009eb7",
        "colab": {
          "base_uri": "https://localhost:8080/"
        }
      },
      "source": [
        "def print_initials():\n",
        "    print(\"Enter your first name\") # ask for first name\n",
        "    first_name = input() # assign first name\n",
        "    print(\"Enter your middle name\") # ask for middle name\n",
        "    middle_name = input() # assign middle name\n",
        "    print(\"Enter your last name\") # ask for last name\n",
        "    surname = input() # assign last name\n",
        "    print(surname,\",\",first_name,middle_name) #print ast name first followed by first and middle names\n",
        "print_initials()"
      ],
      "execution_count": 18,
      "outputs": [
        {
          "output_type": "stream",
          "name": "stdout",
          "text": [
            "Enter your first name\n",
            "Peter\n",
            "Enter your middle name\n",
            "Barry\n",
            "Enter your last name\n",
            "Burrows\n",
            "Burrows , Peter Barry\n"
          ]
        }
      ]
    },
    {
      "cell_type": "markdown",
      "metadata": {
        "id": "1Pvs8lp3bfYQ"
      },
      "source": [
        "# Substrings\n",
        "\n",
        "---\n",
        "\n",
        "A String is a set of characters. Each String has a length and each character in the string has a position or index. Indexing starts at 0 so the first character of a String is at position 0. As Strings have varying lengths, the last character of the String is at position -1. To find any character in the String, count from 0 or, if you want to count backwards from the end, count back from -1.  \n",
        "\n",
        "You can get a particular character, or a set of consecutive characters (substring) from a String using [] and the positions of the characters you want.  \n",
        "\n",
        "Example:  \n",
        "To get the first letter of a String (in this case the String is called **name**)\n",
        "**first_letter** = `name`[0]  \n",
        "**second_letter** = `name`[1]  \n",
        "**sixth_letter** = `name`[5]  \n",
        "\n",
        "To get the last letter of name:  \n",
        "**last_letter** = `name`[-1]  \n",
        "**second_last_letter** = `name`[-2]  \n",
        "**third_last_letter** = `name`[-3]  \n",
        "\n",
        "Have a go"
      ]
    },
    {
      "cell_type": "code",
      "metadata": {
        "id": "1EMg6ff7bw7o",
        "outputId": "ff51abef-73b2-42a7-dba8-8ee85d19dbff",
        "colab": {
          "base_uri": "https://localhost:8080/"
        }
      },
      "source": [
        "def print_letters():\n",
        "   name = \"Robert\" \n",
        "   # add your code below here to get a particular letter and print it.\n",
        "   print(name[0], name[2], name[5], name[-1], name[-3]) # print first, third, last, last (using reverse), third from the last letters\n",
        "print_letters()"
      ],
      "execution_count": 9,
      "outputs": [
        {
          "output_type": "stream",
          "name": "stdout",
          "text": [
            "R b t t e\n"
          ]
        }
      ]
    },
    {
      "cell_type": "markdown",
      "metadata": {
        "id": "FfkpprKbb0Eu"
      },
      "source": [
        "To get a set of letters from a String, use the slice operator.  \n",
        "\n",
        "*substring = stringname[ index of first letter to be included_ : index + 1 of last letter ]* \n",
        "\n",
        "Example:  \n",
        "\n",
        "**first_three_letters** = `name`[0:3]  \n",
        "**second_to_fifth_letters** = `name`[1:5]  \n",
        "**last_three_letters** = `name`[-3:]  \n",
        "\n",
        "*Note: we can't add 1 to -1 as the result would be 0 and confused with the first letter, so we omit the second number to indicate that we want all characters to the end of the string*"
      ]
    },
    {
      "cell_type": "code",
      "metadata": {
        "id": "FGQj_JCVcPGj",
        "outputId": "ffd5e335-f3e3-405c-a0f8-db6ce42ba77e",
        "colab": {
          "base_uri": "https://localhost:8080/"
        }
      },
      "source": [
        "def print_substrings():\n",
        "   name = \"Robert\" \n",
        "   # add your code below here to get a particular letter, or set of letters and print them.\n",
        "   print(name[0:3], name[1:5],name[-3:]) # print first 3, second to fifth and last three letters\n",
        "  \n",
        "print_substrings()"
      ],
      "execution_count": 14,
      "outputs": [
        {
          "output_type": "stream",
          "name": "stdout",
          "text": [
            "Rob ober ber ert\n"
          ]
        }
      ]
    },
    {
      "cell_type": "markdown",
      "metadata": {
        "id": "Cb2OHs_jcQFv"
      },
      "source": [
        "---\n",
        "### Exercise 2 - substrings\n",
        "\n",
        "Write a function called **print_substring()** which will:\n",
        " \n",
        "Ask the user to input a **name** of at least 5 letters  \n",
        "Print the **first** and the **fourth** letters in the `name`  \n",
        "\n",
        "Test Inputs:  \n",
        "Bartholomew  \n",
        "\n",
        "Expected output:  \n",
        "First letter is B, fourth letter is t\n"
      ]
    },
    {
      "cell_type": "code",
      "metadata": {
        "id": "IfABvmw2cgfH",
        "outputId": "203a8d73-13a7-40cc-a59e-97e65bc4b5c2",
        "colab": {
          "base_uri": "https://localhost:8080/"
        }
      },
      "source": [
        "def print_substring():\n",
        "   print(\"Enter a name that is at least 5 letters\")# ask to input name\n",
        "   name = input() # assign to name\n",
        "   print(\"First letter is\",name[0],\"fourth letter is\",name[3]) # print the first and fourth letter\n",
        "  \n",
        "print_substring()"
      ],
      "execution_count": 16,
      "outputs": [
        {
          "output_type": "stream",
          "name": "stdout",
          "text": [
            "Enter a name that is at least 5 letters\n",
            "Bartholomew\n",
            "First letter is B fourth letter is t\n"
          ]
        }
      ]
    },
    {
      "cell_type": "markdown",
      "metadata": {
        "id": "6ryO1LJMchLQ"
      },
      "source": [
        "---\n",
        "### Exercise 3  - Formatting String output  \n",
        "\n",
        "Write a function called **print_formatted()** which will:  \n",
        "\n",
        "*  ask the user to input a **house_number**\n",
        "*  ask the user to input a **road_name**, then a **town**, then a **postcode**  \n",
        "*  print the address on three lines (`house_number` with a comma and `road_name`, `town`, `postcode`)  \n",
        "\n",
        "Test Input:  \n",
        "10  \n",
        "Old Road  \n",
        "Chatham  \n",
        "ME4 1AA  \n",
        "\n",
        "Expected output:   \n",
        "10, Old Road  \n",
        "Chatham  \n",
        "ME4 1AA  "
      ]
    },
    {
      "cell_type": "code",
      "metadata": {
        "id": "qNHq7Ub4c1xP",
        "outputId": "a4c89209-fa91-4641-d07c-8af38aa3aadd",
        "colab": {
          "base_uri": "https://localhost:8080/"
        }
      },
      "source": [
        "def print_formatted():\n",
        "    print(\"Enter house number\") #ask for house number\n",
        "    house_number= input()\n",
        "    print(\"Enter road name\") #ask for road name\n",
        "    road_name = input()\n",
        "    print(\"Enter town name\") #ask for town name\n",
        "    town = input()\n",
        "    print(\"Enter postcode\") #ask for postcode\n",
        "    postcode = input()\n",
        "    print(house_number,\",\",road_name,\"\\n\",town,\"\\n\",postcode) #format and print the address\n",
        "print_formatted()"
      ],
      "execution_count": 24,
      "outputs": [
        {
          "output_type": "stream",
          "name": "stdout",
          "text": [
            "Enter house number\n",
            "10\n",
            "Enter road name\n",
            "Old Road\n",
            "Enter town name\n",
            "Chatham\n",
            "Enter postcode\n",
            "ME4 1AA\n",
            "10 , Old Road \n",
            " Chatham \n",
            " ME4 1AA\n"
          ]
        }
      ]
    },
    {
      "cell_type": "markdown",
      "metadata": {
        "id": "E4BkKHlyc2BA"
      },
      "source": [
        "# String functions\n",
        "\n",
        "## String length\n",
        "\n",
        "You can get the length of a String using the len() function   \n",
        "e.g. **namelength** = len(`name`)  \n"
      ]
    },
    {
      "cell_type": "markdown",
      "metadata": {
        "id": "B0-NtV3uc8UC"
      },
      "source": [
        "---\n",
        "### Exercise 4 - String length  \n",
        "\n",
        "Write a function called **print_namelength()** which will:  \n",
        "\n",
        "*  ask the user to input a **name**  \n",
        "*  assign the length of the name to a variable called **name_length**  \n",
        "*  print the `name` followed by a comma, then `name_length`, then the word “characters”.\n",
        "\n",
        "Test Input:  \n",
        "William  \n",
        "\n",
        "Expected Output:  \n",
        "William, 7 characters"
      ]
    },
    {
      "cell_type": "code",
      "metadata": {
        "id": "ldWAjdrIdOzn",
        "outputId": "412d3579-1508-4a21-8cca-4d19eb80ce0f",
        "colab": {
          "base_uri": "https://localhost:8080/"
        }
      },
      "source": [
        "def print_namelength():\n",
        "    print(\"Enter a name\")  # ask to input name\n",
        "    name = input()\n",
        "    name_length = len(name) # find the length of string\n",
        "    print(name,\",\",name_length,\"characters\") #print the number of letters in string\n",
        "print_namelength()"
      ],
      "execution_count": 25,
      "outputs": [
        {
          "output_type": "stream",
          "name": "stdout",
          "text": [
            "Enter a name\n",
            "William\n",
            "William , 7 characters\n"
          ]
        }
      ]
    },
    {
      "cell_type": "markdown",
      "metadata": {
        "id": "2UTCEzYtdPTH"
      },
      "source": [
        "## String Case Conversion  \n",
        "\n",
        "When you start to compare and search for strings, you will need to be aware that data doesn’t always turn up in the state we would like it.  People often forget to use capital letters at the beginning of their names and will sometimes use all capitals.  It is useful, therefore, to be able to convert a String either to all capitals or all lowercase, depending on how you want to see it.  \n",
        "\n",
        "There are three functions for this, which are linked to the String (here the String variable is called **name**).  \n",
        "\n",
        "*   **upper_case_name** = `name.upper()`\n",
        "*   **lower_case_name** = `name.lower()`\n",
        "*   **capitalised_name** = `name.capitalize()`\n"
      ]
    },
    {
      "cell_type": "markdown",
      "metadata": {
        "id": "X-Fv314Hdicp"
      },
      "source": [
        "---\n",
        "### Exercise 5 - case conversion  \n",
        "\n",
        "Write a function called **convert_to_capitals()** which will:  \n",
        "\n",
        "*  ask the user to input a **name** in lowercase letters \n",
        "*  assign the capitalised String to the variable **capitalised_name** \n",
        "*  print the `name` in capitals  \n",
        "\n",
        "Test Input:  \n",
        "jaswinder  \n",
        "\n",
        "Expected output:  \n",
        "JASWINDER  \n"
      ]
    },
    {
      "cell_type": "code",
      "metadata": {
        "id": "aHDLaligd0Do",
        "outputId": "e738944a-2b96-41f1-8b79-7f696a23c5b8",
        "colab": {
          "base_uri": "https://localhost:8080/"
        }
      },
      "source": [
        "def convert_to_capitals():\n",
        "    print(\"Enter the name in lowercase letters\") # ask for name in lower case\n",
        "    name = input()   # assign name\n",
        "    upper_case_name = name.upper() # convert to all letters to uppercase\n",
        "    lower_case_name = name.lower() # convert to lower case\n",
        "    capitalised_name = name.capitalize() # capitalise first letter\n",
        "    print(upper_case_name) #print all letters in uppercase\n",
        "convert_to_capitals()"
      ],
      "execution_count": 27,
      "outputs": [
        {
          "output_type": "stream",
          "name": "stdout",
          "text": [
            "Enter the name in lowercase letters\n",
            "jaswinder\n",
            "JASWINDER\n"
          ]
        }
      ]
    },
    {
      "cell_type": "markdown",
      "metadata": {
        "id": "DZeyD6p8dusQ"
      },
      "source": [
        "---\n",
        "###Exercise 6 - case conversion  \n",
        "\n",
        "Write a function called **capitalise_names()** which will:  \n",
        "\n",
        "*  ask the user to input a **name** and a **surname**  \n",
        "*  print both `name` and `surname` in lowercase with a capital letter at the start, even if they didn't have capitals when they were typed in  \n",
        "\n",
        "Test Input:  \n",
        "benJamIN  \n",
        "\n",
        "Expected output:  \n",
        "Benjamin\n"
      ]
    },
    {
      "cell_type": "code",
      "metadata": {
        "id": "bpCdYaPdap3V",
        "outputId": "f9452413-e564-47ad-f17a-54abf31470ee",
        "colab": {
          "base_uri": "https://localhost:8080/"
        }
      },
      "source": [
        "def convert_to_capitals():\n",
        "    print(\"Enter the name in lowercase letters\") # ask for name\n",
        "    name = input()  #assign \n",
        "    upper_case_name = name.upper()  # convert all letters to uppercase\n",
        "    lower_case_name = name.lower()  #convert all letters to lower case\n",
        "    capitalised_name = name.capitalize() #capitalise the first letter only\n",
        "    print(capitalised_name)\n",
        "convert_to_capitals()"
      ],
      "execution_count": 28,
      "outputs": [
        {
          "output_type": "stream",
          "name": "stdout",
          "text": [
            "Enter the name in lowercase letters\n",
            "benJamIN\n",
            "Benjamin\n"
          ]
        }
      ]
    },
    {
      "cell_type": "code",
      "source": [
        ""
      ],
      "metadata": {
        "id": "9WHnVXrKzP9F"
      },
      "execution_count": null,
      "outputs": []
    },
    {
      "cell_type": "markdown",
      "metadata": {
        "id": "8Q9-32tFaqLN"
      },
      "source": [
        "---\n",
        "### Exercise 7 - Substrings\n",
        "\n",
        "Write a function called **print_postcode_letters()** which will:   \n",
        "\n",
        "*  ask the user to enter a **postcode**  \n",
        "*  assign the first two letters of the postcode to a variable called **postcode_area**  \n",
        "*  convert the `postcode_area` String to capital letters and assign this to a variable called **capitalised_area**  \n",
        "*  print the `capitalised_area`  \n",
        "\n",
        "Test Input:  \n",
        "Me4 6bb  \n",
        "\n",
        "Expected output:  \n",
        "ME\n"
      ]
    },
    {
      "cell_type": "code",
      "metadata": {
        "id": "dB3M2qagbUsE",
        "outputId": "33a4cc3f-315f-4916-d9d9-3788ec618946",
        "colab": {
          "base_uri": "https://localhost:8080/"
        }
      },
      "source": [
        "def print_postcode_letters():\n",
        "    print(\"Enter Postcode\") # ask for postcode\n",
        "    postcode = input() #assign\n",
        "    postcode_area = postcode[0:2] #select first two characters\n",
        "    capitalised_area = postcode_area.upper() #convert to uppercase\n",
        "    print(capitalised_area) #print\n",
        "print_postcode_letters()"
      ],
      "execution_count": 30,
      "outputs": [
        {
          "output_type": "stream",
          "name": "stdout",
          "text": [
            "Enter Postcode\n",
            "Me4 6bb\n",
            "ME\n"
          ]
        }
      ]
    },
    {
      "cell_type": "markdown",
      "metadata": {
        "id": "2eezJB2UbU1M"
      },
      "source": [
        "---\n",
        "### Exercise 8 - Floor division and slicing\n",
        "\n",
        "Write a function called **print_half_word()** which will:\n",
        " \n",
        "*  ask the user to enter a **word**  \n",
        "*  assign the value of half the length of the `word` to a variable called **half_length**  \n",
        "*  assign the first half of the `word` to a new variable called **half_word**  \n",
        "*  print `half_word`  \n",
        "\n",
        "*Hint:  when dividing the length of the word by 2, use floor division (//) so that you get a whole number of letters).  To get the first half of the word, use word[0:halfLength]*  \n",
        "\n",
        "Test input:  \n",
        "Runtime  \n",
        "\n",
        "Expected output:  \n",
        "Run"
      ]
    },
    {
      "cell_type": "code",
      "metadata": {
        "id": "Xx3zHFgab2pt",
        "outputId": "bcbe641a-7d3f-42db-debf-9b4331600f4f",
        "colab": {
          "base_uri": "https://localhost:8080/"
        }
      },
      "source": [
        "def print_half_word():\n",
        "    print(\"Enter a word\")  #ask for word\n",
        "    word = input()  #assign\n",
        "    half_length = len(word)//2  #find integer value of half\n",
        "    half_word = word[0:half_length] #find half the word\n",
        "    print(half_word) # print\n",
        "print_half_word()"
      ],
      "execution_count": 42,
      "outputs": [
        {
          "output_type": "stream",
          "name": "stdout",
          "text": [
            "Enter a word\n",
            "Runtime\n",
            "Run\n"
          ]
        }
      ]
    },
    {
      "cell_type": "markdown",
      "metadata": {
        "id": "0MdQRAo4b20u"
      },
      "source": [
        "---\n",
        "### Exercise 9 - String repetition\n",
        "\n",
        "Write a function called **repeat_two_letters()** which will:\n",
        "\n",
        "*  ask the user to enter a **word**  \n",
        "*  assign the last two letters of the `word` to a variable called **last_two**  \n",
        "*  assign a string made of 5 copies of the `last_two` (*Hint: `last_two`* * 5 *will do it)* to a variable called **five_copies**  \n",
        "*  print `five_copies`\n",
        "\n",
        "Test Input:\n",
        "Data\n",
        "\n",
        "Expected output:\n",
        "tatatatata\n"
      ]
    },
    {
      "cell_type": "code",
      "metadata": {
        "id": "85-6jHD-cXRO",
        "outputId": "8d6d07ca-6e51-47f2-c974-3c5af745b28d",
        "colab": {
          "base_uri": "https://localhost:8080/"
        }
      },
      "source": [
        "def repeat_two_letters():\n",
        "    print(\"Enter a word\") # ask for a word\n",
        "    word = input() # assign\n",
        "    last_two = word[-2:] # find last 2 letters\n",
        "    five_copies = last_two*5 #repeat the last 2 letters 5 times\n",
        "    print(five_copies) #print\n",
        "repeat_two_letters()"
      ],
      "execution_count": 34,
      "outputs": [
        {
          "output_type": "stream",
          "name": "stdout",
          "text": [
            "Enter a word\n",
            "Data\n",
            "tatatatata\n"
          ]
        }
      ]
    },
    {
      "cell_type": "markdown",
      "metadata": {
        "id": "6P284VwXcXaU"
      },
      "source": [
        "---\n",
        "### Exercise 10 - converting String to lower case\n",
        "\n",
        "Write a function called **lowerCase_threeLetters()** which will:  \n",
        "\n",
        "*  assign the value “january” to a variable called **month**  \n",
        "*  assign the first three characters of `month` to a variable called **month_short**   \n",
        "*  capitalise `month_short` and store the result back in `month_short`\n",
        "*  assign the rest of the characters to a variable called **month_rest**  \n",
        "*  join `month_short` and `month_rest` together and store the result back into the variable `month`  \n",
        "*  print `month`  \n",
        "\n",
        "Expected output:  \n",
        "JANuary  "
      ]
    },
    {
      "cell_type": "code",
      "metadata": {
        "id": "GXqOeFwycuDD",
        "outputId": "75fb2a44-3e08-410c-dce5-31f2d5813e66",
        "colab": {
          "base_uri": "https://localhost:8080/"
        }
      },
      "source": [
        "def lowerCase_threeLetters():\n",
        "    month = \"january\"  # assign a month\n",
        "    month_short = month[0:3] #shorten to first 3 letters\n",
        "    month_short = month_short.upper() #convert first 3 letters to upper case\n",
        "    month_rest = month[3:] #find the remaining characters\n",
        "    month=month_short+month_rest #add first 3 uppercase letters to rest\n",
        "    print(month) # print\n",
        "lowerCase_threeLetters()"
      ],
      "execution_count": 40,
      "outputs": [
        {
          "output_type": "stream",
          "name": "stdout",
          "text": [
            "JANuary\n"
          ]
        }
      ]
    }
  ]
}
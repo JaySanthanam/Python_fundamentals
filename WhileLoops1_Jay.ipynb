{
  "nbformat": 4,
  "nbformat_minor": 0,
  "metadata": {
    "colab": {
      "name": "WhileLoops1.ipynb",
      "provenance": [],
      "collapsed_sections": [],
      "include_colab_link": true
    },
    "kernelspec": {
      "name": "python3",
      "display_name": "Python 3"
    }
  },
  "cells": [
    {
      "cell_type": "markdown",
      "metadata": {
        "id": "view-in-github",
        "colab_type": "text"
      },
      "source": [
        "<a href=\"https://colab.research.google.com/github/JaySanthanam/Python_fundamentals/blob/main/WhileLoops1_Jay.ipynb\" target=\"_parent\"><img src=\"https://colab.research.google.com/assets/colab-badge.svg\" alt=\"Open In Colab\"/></a>"
      ]
    },
    {
      "cell_type": "markdown",
      "metadata": {
        "id": "OWGIE_ptimyf"
      },
      "source": [
        "# While loops\n",
        "\n",
        "---\n"
      ]
    },
    {
      "cell_type": "markdown",
      "metadata": {
        "id": "Kjh4DVogizl5"
      },
      "source": [
        "There are many situations when an external event (such as an input from the user or finding an invalid data value) will be the thing that will cause the loop to stop.\n",
        "\n",
        "A while loop allows us to say \"repeat these instructions while something has not yet happened, or repeat these instruction while a particular state exists\"\n",
        "\n",
        "For example, we want to ask a user to enter some positive numbers to be added to a total. They will indicate that there are no more numbers by entering -1.\n",
        "\n"
      ]
    },
    {
      "cell_type": "code",
      "metadata": {
        "id": "HieVx4BrtJlU",
        "outputId": "18f5d68d-9d3f-4a04-9afe-b1d502ed8d6c",
        "colab": {
          "base_uri": "https://localhost:8080/"
        }
      },
      "source": [
        "# initialise a total to 0\n",
        "# read the first number\n",
        "# add the number to the total and keep reading next number and adding to total until -1 entered\n",
        "\n",
        "def running_total():\n",
        "    total = 0\n",
        "    num = int(input(\"Enter a number, or type -1 to stop\"))\n",
        "    while num != -1:\n",
        "        total = total + num\n",
        "        num = int(input(\"Enter a number, or type -1 to stop\"))\n",
        "    print(total)\n",
        "\n",
        "running_total()"
      ],
      "execution_count": 1,
      "outputs": [
        {
          "output_type": "stream",
          "name": "stdout",
          "text": [
            "Enter a number, or type -1 to stop7\n",
            "Enter a number, or type -1 to stop9\n",
            "Enter a number, or type -1 to stop-1\n",
            "16\n"
          ]
        }
      ]
    },
    {
      "cell_type": "markdown",
      "metadata": {
        "id": "X8pROiEYtKbA"
      },
      "source": [
        "**Another example**\n",
        "\n",
        "We want to take a number from the user and keep dividing it by 2 until the answer is 1 or less, then to print the number of times it was divided. Try it out. If you enter 8 then the answer should be 3, if you enter 6 the answer will also be 3."
      ]
    },
    {
      "cell_type": "code",
      "metadata": {
        "id": "eL9nJORbtTUb",
        "outputId": "06ff5aa9-286b-489a-a81b-f3de26d07b06",
        "colab": {
          "base_uri": "https://localhost:8080/"
        }
      },
      "source": [
        "def div_by_two():\n",
        "  num = int(input(\"Enter a number to be processed\"))\n",
        "  number_times_divided = 0\n",
        "  while num > 1:\n",
        "    number_times_divided = number_times_divided + 1\n",
        "    num = num/2\n",
        "  print(\"Your number was divided\", number_times_divided, \"times\") \n",
        "   \n",
        "div_by_two()"
      ],
      "execution_count": 2,
      "outputs": [
        {
          "output_type": "stream",
          "name": "stdout",
          "text": [
            "Enter a number to be processed8\n",
            "Your number was divided 3 times\n"
          ]
        }
      ]
    },
    {
      "cell_type": "markdown",
      "metadata": {
        "id": "jKqqk9LstW83"
      },
      "source": [
        "*Here are some more examples of use of while loops.*\n",
        "\n",
        "### Ensuring valid input  \n",
        "When reading from the keyboard it is important to ensure that the user only enters valid data. You can do this in a number of ways but a while loop can be used to make the user keep entering data until they enter something that is valid."
      ]
    },
    {
      "cell_type": "code",
      "metadata": {
        "id": "7_CoIBfluIUG",
        "colab": {
          "base_uri": "https://localhost:8080/"
        },
        "outputId": "c25f1005-870b-4a3c-8717-1eda5e06ad02"
      },
      "source": [
        "# read a number from the user\n",
        "# check that the number is a positive integer.  If not, display error messages\n",
        "# keep reading until a positive integer is read\n",
        "\n",
        "def positive_num():\n",
        "  number = -1\n",
        "  while number < 0:\n",
        "    print(\"You must type a number above 0\")\n",
        "    number = int(input(\"Enter a positive number\"))\n",
        "  print(\"Thank you for typing the number\", number)\n",
        "\n",
        "positive_num()"
      ],
      "execution_count": 3,
      "outputs": [
        {
          "output_type": "stream",
          "name": "stdout",
          "text": [
            "You must type a number above 0\n",
            "Enter a positive number-7\n",
            "You must type a number above 0\n",
            "Enter a positive number7\n",
            "Thank you for typing the number 7\n"
          ]
        }
      ]
    },
    {
      "cell_type": "markdown",
      "metadata": {
        "id": "YiO-WgJ8zzjp"
      },
      "source": [
        "### Take home points\n",
        "\n",
        "* An algorithm is the method for solving a particular problem (e.g. getting the right sort of number, selecting a message depending on input, calculating a new figure, etc)\n",
        "* A while loop will keep repeating while the given condition is TRUE\n",
        "* As soon as the condition becomes false the loop will stop executing\n",
        "* We use while loops when we don't necessarily know how many times a loop will need to repeat, but we do know under what conditions it does need to repeat."
      ]
    },
    {
      "cell_type": "markdown",
      "metadata": {
        "id": "4CS8CNrmQUbO"
      },
      "source": [
        "---\n",
        "### Exercise 1 - get a valid username\n",
        "\n",
        "Write a function called **get_username()** which will:  \n",
        "\n",
        "*  assign the value False to a boolean variable called **valid**  \n",
        "*  start a while loop that will continue to loop while `valid` is False  \n",
        "*  in the loop:  ask the user to enter a **username**,  if the `username` is \"user\" assign the value True to `valid`, otherwise print the message \"Incorrect user name\"   \n",
        "*  after the loop, display the message \"Welcome `username`, you will now be asked to enter your password  \n",
        "\n",
        "Test input:  \n",
        "username   \n",
        "user  \n",
        "\n",
        "Expected output:  \n",
        "Incorrect username  \n",
        "Welcome user you will now be asked to enter your password  "
      ]
    },
    {
      "cell_type": "code",
      "metadata": {
        "id": "nwq55T5eRv7_",
        "outputId": "e48c8ba2-6c7c-48dc-e126-59015a572e7c",
        "colab": {
          "base_uri": "https://localhost:8080/"
        }
      },
      "source": [
        "# read a username from the user\n",
        "# check that the username user.  If not, ask for valid username\n",
        "# keep reading until user is read\n",
        "\n",
        "def get_username():\n",
        "  valid = False\n",
        "  while valid == False:\n",
        "    username = input(\"Enter a valid username: \")\n",
        "    if username == \"user\":\n",
        "       valid = True\n",
        "       print(\"welcome user you will now be asked to enter your password\")\n",
        "    else:\n",
        "      print(\"Incorrect user name\")\n",
        "get_username()"
      ],
      "execution_count": 10,
      "outputs": [
        {
          "output_type": "stream",
          "name": "stdout",
          "text": [
            "Enter a valid username: username\n",
            "Incorrect user name\n",
            "Enter a valid username: usernom\n",
            "Incorrect user name\n",
            "Enter a valid username: user\n",
            "welcome user you will now be asked to enter your password\n"
          ]
        }
      ]
    },
    {
      "cell_type": "markdown",
      "metadata": {
        "id": "FXN6-MtQRwb9"
      },
      "source": [
        "---\n",
        "### Exercise 2 - get a valid passcode  \n",
        "\n",
        "Write a function called **get_passcode()** which will:  \n",
        "\n",
        "*  assign the value False to a boolean variable called **valid**  \n",
        "*  start a while loop that will continue to loop while `valid` is False  \n",
        "*  in the loop:  ask the user to enter a **passcode**, if the `passcode` is \"9876\" assign the value True to `valid`, otherwise print the message \"Incorrect passcode\"  \n",
        "*  after the loop, display the message \"Passcode accepted\"    \n",
        "\n",
        "Test input:  \n",
        "1234   \n",
        "9876  \n",
        "\n",
        "Expected output:  \n",
        "Incorrect passcode  \n",
        "Passcode accepted  "
      ]
    },
    {
      "cell_type": "code",
      "metadata": {
        "id": "a0Z_ACOiSxsP",
        "outputId": "57f28673-eaf9-4606-d1c1-d3dc4fac9faf",
        "colab": {
          "base_uri": "https://localhost:8080/"
        }
      },
      "source": [
        "# read a passcode from the user\n",
        "# check that the passcode is 9876.  If not, ask for valid passcode\n",
        "# keep reading until correct passcode is read\n",
        "\n",
        "def get_passcode():\n",
        "  valid = False\n",
        "  while valid == False:\n",
        "    passcode = int(input(\"Enter a valid passcode: \"))\n",
        "    if passcode == 9876:\n",
        "       valid = True\n",
        "       print(\"passcode accepted\")\n",
        "    else:\n",
        "      print(\"Incorrect passcode\")\n",
        "get_passcode()"
      ],
      "execution_count": 11,
      "outputs": [
        {
          "output_type": "stream",
          "name": "stdout",
          "text": [
            "Enter a valid passcode: 3456\n",
            "Incorrect passcode\n",
            "Enter a valid passcode: 1234\n",
            "Incorrect passcode\n",
            "Enter a valid passcode: 9876\n",
            "passcode accepted\n"
          ]
        }
      ]
    },
    {
      "cell_type": "markdown",
      "metadata": {
        "id": "DMeDXd7TS0ar"
      },
      "source": [
        "---\n",
        "### Exercise 3 - single digit input  \n",
        "\n",
        "Write a function called **get_digit()** which will:  \n",
        "\n",
        "*  assign the value False to a boolean variable called **valid_digit**  \n",
        "*  use a while loop to repeatedly ask the user to enter a single digit until the value they enter is less than 10     \n",
        "*  in the loop:  ask the user to enter a **single_digit**, if the `single_digit` is less than 10 assign the value True to `valid`, otherwise print the message \"Not a digit\"  \n",
        "*  after the loop, display the message \"Single digit entered\"    \n",
        "\n",
        "Test input:  \n",
        "10   \n",
        "9  \n",
        "\n",
        "Expected output:  \n",
        "Not a digit  \n",
        "Single digit entered  "
      ]
    },
    {
      "cell_type": "code",
      "metadata": {
        "id": "4oGXPcmqTtVN",
        "outputId": "bacef86b-3195-426b-f02f-16b4a9321f04",
        "colab": {
          "base_uri": "https://localhost:8080/"
        }
      },
      "source": [
        "# get a single digit input from the user\n",
        "# check that the number entered is single digit (<10).  If not, print \"Not a digit\"\n",
        "# keep reading until single digit is entered\n",
        "\n",
        "def get_digit():\n",
        "  valid_digit = False\n",
        "  while valid_digit == False:\n",
        "    single_digit = int(input(\"Enter a single digit: \"))\n",
        "    if single_digit <10:\n",
        "       valid_digit = True\n",
        "       print(\"Single digit entered\")\n",
        "    else:\n",
        "      print(\"Not a digit\")\n",
        "get_digit()"
      ],
      "execution_count": 12,
      "outputs": [
        {
          "output_type": "stream",
          "name": "stdout",
          "text": [
            "Enter a single digit: 10\n",
            "Not a digit\n",
            "Enter a single digit: 9\n",
            "Single digit entered\n"
          ]
        }
      ]
    },
    {
      "cell_type": "markdown",
      "metadata": {
        "id": "o80s4nzfi37X"
      },
      "source": [
        "---\n",
        "### Exercise 4 - positive number input \n",
        "\n",
        "Write a function called **positive_number()** which will:\n",
        "*  ask the user to enter a **number**, the message should indicate that it must be a positive number  \n",
        "*  if `number` is not positive **(ie. less than 1)** show an error message and ask user to re-enter the `number` \n",
        "*  when the `number` is positive, print the `number`\n",
        "\n",
        "Test input:  \n",
        "-1\n",
        "0\n",
        "1\n",
        "\n",
        "Expected output:  \n",
        "It must be a positive number, try again  \n",
        "It must be a positive number, try again  \n",
        "1  "
      ]
    },
    {
      "cell_type": "code",
      "metadata": {
        "id": "BmZjI8PzwdT-",
        "outputId": "ba5dc0ea-3c4b-47a8-bb4f-cd85151a813f",
        "colab": {
          "base_uri": "https://localhost:8080/"
        }
      },
      "source": [
        "# get a positive number input from the user\n",
        "# check that the number entered is positive (>1).  If not, print \"It must be positive number try again\"\n",
        "# keep reading until a positive number is entered\n",
        "\n",
        "def positive_number():\n",
        " number = int(input(\"Enter a positive number: \"))\n",
        " while number<1:\n",
        "   print(\"It must be a positive number, try again\")\n",
        "   number = int(input(\"Enter a positive number: \"))\n",
        " print(\"You have entered, \", number)\n",
        "\n",
        "positive_number()"
      ],
      "execution_count": 24,
      "outputs": [
        {
          "output_type": "stream",
          "name": "stdout",
          "text": [
            "Enter a positive number: -1\n",
            "It must be a positive number, try again\n",
            "Enter a positive number: 1\n",
            "You have entered,  1\n"
          ]
        }
      ]
    },
    {
      "cell_type": "markdown",
      "metadata": {
        "id": "xPJfd9lUyULa"
      },
      "source": [
        "---\n",
        "### Exercise 5 - getting a number within limits \n",
        "\n",
        "Write a function called **test_limits()** which will:\n",
        "\n",
        "*  ask the user to enter a number between **1 and 31**\n",
        "*  if the number entered is less than 1 or more than 31, display the error message \"Number out of limits\"  \n",
        "*  continue asking the user until a valid input is given \n",
        "*  when a valid number is given, display the message \"Your number was `number`\" and end the program \n",
        "\n",
        "Test input:  \n",
        "40  \n",
        "50  \n",
        "30  \n",
        "\n",
        "Expected output:  \n",
        "Number out of limits  \n",
        "Number out of limits  \n",
        "Your number was 30  \n"
      ]
    },
    {
      "cell_type": "code",
      "metadata": {
        "id": "MVxhTY6zzq8k",
        "colab": {
          "base_uri": "https://localhost:8080/"
        },
        "outputId": "b0d95588-4885-4d5a-abee-5009bb782ca3"
      },
      "source": [
        "# get a number between 1 and 31\n",
        "# check that the number entered is between 1 and 31 (1<number<31).  \n",
        "# If not, print \"Number out of limits\"\n",
        "# keep reading until correct number is entered\n",
        "\n",
        "def test_limits():\n",
        "  num_valid = False\n",
        "  while num_valid == False:\n",
        "    number = int(input(\"Enter a number between 1 and 31: \"))\n",
        "    if (number<1) or (number>31):\n",
        "       print(\"Number out of limits\")\n",
        "    else:\n",
        "      num_valid = True\n",
        "      print(\"your number was\", number)\n",
        "test_limits()"
      ],
      "execution_count": 27,
      "outputs": [
        {
          "output_type": "stream",
          "name": "stdout",
          "text": [
            "Enter a number between 1 and 31: 40\n",
            "Number out of limits\n",
            "Enter a number between 1 and 31: 50\n",
            "Number out of limits\n",
            "Enter a number between 1 and 31: 30\n",
            "your number was 30\n"
          ]
        }
      ]
    },
    {
      "cell_type": "markdown",
      "metadata": {
        "id": "WcHiG9AlUPdr"
      },
      "source": [
        "---\n",
        "### Exercise 6 - getting a number outside range\n",
        "\n",
        "Write a function called **test_outlier()** which will:\n",
        "\n",
        "*  ask the user to enter a **number** that is NOT between 40 and 50  \n",
        "*  if the `number` entered is between 40 and 50 (including both 40 and 50, display the error message \"This is not an outlier\"\n",
        "*  continue asking the user until a valid `number` is given\n",
        "*  when a valid `number` is given, display the message \"You have entered an outlier\" and end the program  \n",
        "\n",
        "Test input:  \n",
        "34  \n",
        "\n",
        "Expected output:  \n",
        "You have entered an outlier  \n",
        "\n",
        "Test input:  \n",
        "44  \n",
        "50  \n",
        "40  \n",
        "34  \n",
        "\n",
        "Expected output:  \n",
        "This is not an outlier  \n",
        "This is not an outlier  \n",
        "This is not an outlier  \n",
        "You have entered an outlier  "
      ]
    },
    {
      "cell_type": "code",
      "metadata": {
        "id": "PqvtQXYnUQ8E",
        "outputId": "a2fea1d9-97a6-4a68-fa0d-bd5e6517028f",
        "colab": {
          "base_uri": "https://localhost:8080/"
        }
      },
      "source": [
        "# getting number outside the range of 40 and 50\n",
        "# check that the number entered is NOT between 40 and 50 ( not 40<number<50).  \n",
        "# If not, print \"Number is not outlier\"\n",
        "# keep reading until correct number is entered\n",
        "\n",
        "def test_outlier():\n",
        "  num_valid = False\n",
        "  while num_valid == False:\n",
        "    number = int(input(\"Enter a number that is NOT between 40 and 50: \"))\n",
        "    if (number>=40) and (number<=50):\n",
        "       print(\"Number is not an outlier\")\n",
        "    else:\n",
        "      num_valid = True\n",
        "      print(\"You have entered an outlier\")\n",
        "test_outlier()"
      ],
      "execution_count": 42,
      "outputs": [
        {
          "output_type": "stream",
          "name": "stdout",
          "text": [
            "Enter a number that is NOT between 40 and 50: 44\n",
            "Number is not an outlier\n",
            "Enter a number that is NOT between 40 and 50: 50\n",
            "Number is not an outlier\n",
            "Enter a number that is NOT between 40 and 50: 40\n",
            "Number is not an outlier\n",
            "Enter a number that is NOT between 40 and 50: 34\n",
            "You have entered an outlier\n"
          ]
        }
      ]
    },
    {
      "cell_type": "markdown",
      "metadata": {
        "id": "53kjOj7nzri1"
      },
      "source": [
        "---\n",
        "### Exercise 7 - multiplying a number to be greater than 20,000\n",
        "\n",
        "Write a function called **increase_to_twenty_thousand()** that will:\n",
        "\n",
        "*  ask the user to input a **number**\n",
        "*  multiply given `number` by itself repeatedly, printing its value each time it changes, until the  number has become greater (>) than 20,000\n",
        "\n",
        "Test input:  \n",
        "5\n",
        "\n",
        "Expected output:  \n",
        "5   \n",
        "25  \n",
        "125  \n",
        "625  \n",
        "3125  \n",
        "15625  \n",
        "78125  \n",
        " "
      ]
    },
    {
      "cell_type": "code",
      "metadata": {
        "id": "9vzat0W21tNA",
        "outputId": "73b43384-d3f2-4feb-a5df-5996e255ba0b",
        "colab": {
          "base_uri": "https://localhost:8080/"
        }
      },
      "source": [
        "# multiply until 20,000\n",
        "# Ask user to input number  \n",
        "# multiply number by itself repeatedly until it is >20000\n",
        "\n",
        "def increase_to_twenty_thousand():\n",
        "  number = int(input(\"Enter a number: \"))\n",
        "  print (number)\n",
        "  num = 1\n",
        "  while num < 20000:\n",
        "   num = num*number\n",
        "   print (num)\n",
        "increase_to_twenty_thousand()"
      ],
      "execution_count": 41,
      "outputs": [
        {
          "output_type": "stream",
          "name": "stdout",
          "text": [
            "Enter a number: 5\n",
            "5\n",
            "5\n",
            "25\n",
            "125\n",
            "625\n",
            "3125\n",
            "15625\n",
            "78125\n"
          ]
        }
      ]
    },
    {
      "cell_type": "markdown",
      "metadata": {
        "id": "wepL2Ufj1uvT"
      },
      "source": [
        "---\n",
        "### Exercise 8 - even and odds \n",
        "\n",
        "Write a function called **get_even_number()** that:\n",
        "\n",
        "*  asks the user to input an even number (divisible by 2)\n",
        "*  if an odd number is given, display message \"That number is odd\"\n",
        "*  once valid input given (even number), display message \"Thanks, that number is even\"\n",
        "\n",
        "Test input:  \n",
        "3  \n",
        "1  \n",
        "2  \n",
        "\n",
        "Expected output:  \n",
        "That number is odd  \n",
        "That number is odd  \n",
        "Thanks, that number is even  \n",
        "\n"
      ]
    },
    {
      "cell_type": "code",
      "metadata": {
        "id": "KME9Qfcs45yJ",
        "outputId": "3aef4685-4e54-45d4-a202-3144891b26a5",
        "colab": {
          "base_uri": "https://localhost:8080/"
        }
      },
      "source": [
        "# get even number\n",
        "# ask for an even number. check if the number entered is even  \n",
        "# If not, print \"That number is odd\"\n",
        "# keep reading until correct number is entered\n",
        "\n",
        "def get_even_number():\n",
        "  num_valid = False\n",
        "  while num_valid == False:\n",
        "    number = int(input(\"Enter an even number: \"))\n",
        "    if (number%2) !=0:\n",
        "       print(\"The number is odd\")\n",
        "    else:\n",
        "      num_valid = True\n",
        "      print(\"Thanks, that number is even\")\n",
        "get_even_number()"
      ],
      "execution_count": 44,
      "outputs": [
        {
          "output_type": "stream",
          "name": "stdout",
          "text": [
            "Enter an even number: 3\n",
            "The number is odd\n",
            "Enter an even number: 1\n",
            "The number is odd\n",
            "Enter an even number: 2\n",
            "Thanks, that number is even\n"
          ]
        }
      ]
    },
    {
      "cell_type": "markdown",
      "metadata": {
        "id": "-p3LVygZwd6R"
      },
      "source": [
        "### Exercise 9 - menu choice \n",
        "\n",
        "Write a function called **show_special_numbers()** which will:\n",
        "\n",
        "*  display the following menu \n",
        "\n",
        "*What value would you like to see?*\n",
        "\n",
        "1. *Pi*\n",
        "2. *Plank’s constant*\n",
        "3. *E*\n",
        "4. *Square root of 2*\n",
        "5. *Quit the program*\n",
        "\n",
        "*  ask the user to input which value they would like to see by typing a number between 1 - 5 \n",
        "*  read and process the choice while the user selects anything other than 5 (Quit the program)\n",
        "\n",
        "To process the choice:  \n",
        "* if the number is 1 - print 3.14159265359\n",
        "* if the number is 2 - print 6.62607004 × 10-34 (in Python this would be written 6.62607004E-34\n",
        "* if the number is 3 - print 2.71828\n",
        "* if the number is 4 - print 1.414\n",
        "* if the number is 5 - print the message (\"Thank you for using this program\")\n",
        "* if the number is anything else - print \"Invalid choice\"\n",
        "\n",
        "The program will print the message associated with the menu choice and will then display the menu again and ask the user to select a choice.  \n",
        "\n",
        "When the user enters 5, the program should stop repeating.\n",
        "\n",
        "Test input:    \n",
        "1  \n",
        "4  \n",
        "6  \n",
        "5  \n",
        "\n",
        "Expected output:    \n",
        "3.14159265359  \n",
        "1.414  \n",
        "Invalid choice  \n",
        "Thank you for using this program  "
      ]
    },
    {
      "cell_type": "code",
      "metadata": {
        "id": "EZdR70D-yP_Y",
        "outputId": "84b5b2a4-5a74-4577-df06-5ef699dcc56e",
        "colab": {
          "base_uri": "https://localhost:8080/"
        }
      },
      "source": [
        "def show_special_numbers():\n",
        "  thisdict =\t{ \"1\": 3.14159265359, \"2\": 6.62607004E-34, \"3\": 2.71828, \"4\": 1.414, \"5\": \"Thank you for using this program\"}\n",
        "  str_1 = \"\"\"What value would you like to see?\n",
        "    1. Pi\n",
        "    2. Plank’s constant\n",
        "    3. E\n",
        "    4. Square root of 2\n",
        "    5. Quit the program\n",
        "\"\"\"\n",
        "  print(str_1)\n",
        "  valid = False\n",
        "  str_2 = input(\"Enter a choice between 1 and 5: \")\n",
        "  while valid == False:\n",
        "      if int(str_2)>0 and int(str_2)<5:\n",
        "         print(thisdict[str_2])\n",
        "         str_2 = input(\"Enter a choice between 1 and 5: \")\n",
        "      elif int(str_2)>5:\n",
        "         print(\"Invalid choice\")\n",
        "         str_2 = input(\"Enter a choice between 1 and 5: \")\n",
        "      else:\n",
        "        valid = True\n",
        "        print(\"Thank you for using this program\")\n",
        "show_special_numbers()"
      ],
      "execution_count": 79,
      "outputs": [
        {
          "output_type": "stream",
          "name": "stdout",
          "text": [
            "What value would you like to see?\n",
            "    1. Pi\n",
            "    2. Plank’s constant\n",
            "    3. E\n",
            "    4. Square root of 2\n",
            "    5. Quit the program\n",
            "\n",
            "Enter a choice between 1 and 5: 1\n",
            "3.14159265359\n",
            "Enter a choice between 1 and 5: 4\n",
            "1.414\n",
            "Enter a choice between 1 and 5: 6\n",
            "Invalid choice\n",
            "Enter a choice between 1 and 5: 5\n",
            "Thank you for using this program\n"
          ]
        }
      ]
    },
    {
      "cell_type": "markdown",
      "metadata": {
        "id": "Ig_WrlmPWG4v"
      },
      "source": [
        "---\n",
        "### Exercise 10 - Guess the number  \n",
        "\n",
        "Write a function called **guess_number(number)** which will:  \n",
        "\n",
        "Ask the user to guess the number within 6 attempts.  \n",
        "\n",
        "The function will be given a random number (called `number`) and should use a while loop that will continue while the user has not guessed correctly and has had less than 6 attempts (don't forget to set the number of attempts to 0 before the loop and increment it every time a guess is made).  \n",
        "\n",
        "In the loop:  \n",
        "\n",
        "*  ask the user to enter a **guess**  \n",
        "*  if the `guess` is greater than the `number` print \"Too high\", if less than the number print \"Too low\" or if correct print \"You guessed it\"  \n",
        "*  count the `attempt`  \n",
        "\n",
        "After the loop if the maximum attempts has been reached, print \"Too many attempts\"\n",
        "\n",
        "\n"
      ]
    },
    {
      "cell_type": "code",
      "metadata": {
        "id": "7qagArrHWHGV",
        "outputId": "b9ae9205-cde9-4b64-d48d-858b8a269ac1",
        "colab": {
          "base_uri": "https://localhost:8080/"
        }
      },
      "source": [
        "from random import randint\n",
        "\n",
        "def guess_number(number):\n",
        "  # 6 chances to guess the number\n",
        "  guess = int(input(\"Enter your guess: \"))\n",
        "  attempt = 1\n",
        "  equal = False\n",
        "  while attempt < 7 and equal == False:\n",
        "      if guess < number:\n",
        "         print(\"Too low\")\n",
        "         guess = int(input(\"Enter your guess: \"))\n",
        "         attempt = attempt +1\n",
        "      elif guess > number:\n",
        "         print(\"Too high\")\n",
        "         guess = int(input(\"Enter your guess: \"))\n",
        "         attempt = attempt+1\n",
        "      else:\n",
        "        equal = True\n",
        "        print(\"You guessed it in your\", attempt, \"attempt\")\n",
        "  if attempt >6:\n",
        "     print(\"Too many attempts\")\n",
        "guess_number(randint(1,50))"
      ],
      "execution_count": 86,
      "outputs": [
        {
          "output_type": "stream",
          "name": "stdout",
          "text": [
            "Enter your guess: 70\n",
            "Too high\n",
            "Enter your guess: 40\n",
            "Too high\n",
            "Enter your guess: 30\n",
            "Too high\n",
            "Enter your guess: 20\n",
            "You guessed it in your 4 attempt\n"
          ]
        }
      ]
    }
  ]
}